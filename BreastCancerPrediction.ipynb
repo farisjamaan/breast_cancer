{
 "cells": [
  {
   "cell_type": "code",
   "execution_count": 287,
   "metadata": {},
   "outputs": [],
   "source": [
    "import pandas as pd \n",
    "import numpy as np \n",
    "import torch \n",
    "import torch.nn as nn\n",
    "import matplotlib.pyplot as plt\n",
    "from sklearn.datasets import load_breast_cancer"
   ]
  },
  {
   "cell_type": "code",
   "execution_count": 288,
   "metadata": {},
   "outputs": [],
   "source": [
    "data = load_breast_cancer()"
   ]
  },
  {
   "cell_type": "code",
   "execution_count": 289,
   "metadata": {},
   "outputs": [
    {
     "name": "stdout",
     "output_type": "stream",
     "text": [
      "\n",
      "---------  Data Sample  ----------\n",
      "[[1.799e+01 1.038e+01 1.228e+02 ... 2.654e-01 4.601e-01 1.189e-01]\n",
      " [2.057e+01 1.777e+01 1.329e+02 ... 1.860e-01 2.750e-01 8.902e-02]\n",
      " [1.969e+01 2.125e+01 1.300e+02 ... 2.430e-01 3.613e-01 8.758e-02]\n",
      " ...\n",
      " [1.660e+01 2.808e+01 1.083e+02 ... 1.418e-01 2.218e-01 7.820e-02]\n",
      " [2.060e+01 2.933e+01 1.401e+02 ... 2.650e-01 4.087e-01 1.240e-01]\n",
      " [7.760e+00 2.454e+01 4.792e+01 ... 0.000e+00 2.871e-01 7.039e-02]]\n",
      "\n",
      "---------  Data Shape  ----------\n",
      "(569, 30)\n",
      "\n",
      "---------  Data Type  ----------\n",
      "<class 'numpy.ndarray'>\n",
      "\n",
      "---------  Features  ----------\n",
      "['mean radius' 'mean texture' 'mean perimeter' 'mean area'\n",
      " 'mean smoothness' 'mean compactness' 'mean concavity'\n",
      " 'mean concave points' 'mean symmetry' 'mean fractal dimension'\n",
      " 'radius error' 'texture error' 'perimeter error' 'area error'\n",
      " 'smoothness error' 'compactness error' 'concavity error'\n",
      " 'concave points error' 'symmetry error' 'fractal dimension error'\n",
      " 'worst radius' 'worst texture' 'worst perimeter' 'worst area'\n",
      " 'worst smoothness' 'worst compactness' 'worst concavity'\n",
      " 'worst concave points' 'worst symmetry' 'worst fractal dimension']\n",
      "\n",
      "---------  Targets Names  ----------\n",
      "['malignant' 'benign']\n",
      "\n",
      "---------  Targets Sample ----------\n",
      "[0 0 0 0 0 0 0 0 0 0 0 0 0 0 0 0 0 0 0 1 1 1 0 0 0 0 0 0 0 0 0 0 0 0 0 0 0\n",
      " 1 0 0 0 0 0 0 0 0 1 0 1 1 1 1 1 0 0 1 0 0 1 1 1 1 0 1 0 0 1 1 1 1 0 1 0 0\n",
      " 1 0 1 0 0 1 1 1 0 0 1 0 0 0 1 1 1 0 1 1 0 0 1 1 1 0]\n",
      "\n",
      "---------  Targets Shape ----------\n",
      "(569,)\n"
     ]
    }
   ],
   "source": [
    "print(\"\\n---------  Data Sample  ----------\")\n",
    "print(data.data)\n",
    "print(\"\\n---------  Data Shape  ----------\")\n",
    "print(data.data.shape)\n",
    "print(\"\\n---------  Data Type  ----------\")\n",
    "print(type(data.data))\n",
    "print(\"\\n---------  Features  ----------\")\n",
    "print(data.feature_names)\n",
    "print(\"\\n---------  Targets Names  ----------\")\n",
    "print(data.target_names)\n",
    "print(\"\\n---------  Targets Sample ----------\")\n",
    "print(data.target[:100])\n",
    "print(\"\\n---------  Targets Shape ----------\")\n",
    "print(data.target.shape)\n"
   ]
  },
  {
   "cell_type": "markdown",
   "metadata": {},
   "source": [
    "### Train and Test Split"
   ]
  },
  {
   "cell_type": "code",
   "execution_count": 290,
   "metadata": {},
   "outputs": [],
   "source": [
    "from sklearn.model_selection import train_test_split\n",
    "\n",
    "X_train, X_test, y_train, y_test = train_test_split(data.data, data.target, test_size=0.20)\n",
    "N, D = X_train.shape"
   ]
  },
  {
   "cell_type": "code",
   "execution_count": 291,
   "metadata": {},
   "outputs": [
    {
     "name": "stdout",
     "output_type": "stream",
     "text": [
      "455\n",
      "30\n"
     ]
    }
   ],
   "source": [
    "print(N)\n",
    "print(D)"
   ]
  },
  {
   "cell_type": "code",
   "execution_count": 292,
   "metadata": {},
   "outputs": [],
   "source": [
    "from sklearn.preprocessing import StandardScaler\n",
    "\n",
    "scaler = StandardScaler()\n",
    "X_train = scaler.fit_transform(X_train)\n",
    "X_test = scaler.transform(X_test)"
   ]
  },
  {
   "cell_type": "markdown",
   "metadata": {},
   "source": [
    "### Model Building"
   ]
  },
  {
   "cell_type": "code",
   "execution_count": 293,
   "metadata": {},
   "outputs": [],
   "source": [
    "model = nn.Sequential(\n",
    "    nn.Linear(D, 1),\n",
    "    nn.Sigmoid()\n",
    ")"
   ]
  },
  {
   "cell_type": "code",
   "execution_count": 294,
   "metadata": {},
   "outputs": [],
   "source": [
    "criterion = nn.BCELoss()\n",
    "optimizer = torch.optim.Adam(model.parameters())"
   ]
  },
  {
   "cell_type": "code",
   "execution_count": 295,
   "metadata": {},
   "outputs": [],
   "source": [
    "# Let's Convert the data into torch tensors \n",
    "\n",
    "X_train = torch.from_numpy(X_train.astype(np.float32))\n",
    "X_test = torch.from_numpy(X_test.astype(np.float32))\n",
    "# add an extra dimension for y_train and test\n",
    "y_train = torch.from_numpy(y_train.astype(np.float32).reshape(-1, 1))\n",
    "y_test = torch.from_numpy(y_test.astype(np.float32).reshape(-1, 1))"
   ]
  },
  {
   "cell_type": "markdown",
   "metadata": {},
   "source": [
    "## Model Training"
   ]
  },
  {
   "cell_type": "code",
   "execution_count": 296,
   "metadata": {},
   "outputs": [
    {
     "name": "stdout",
     "output_type": "stream",
     "text": [
      "Epoch 50: Train Loss: 0.6257,\tTest Loss: 0.6047, Train Acc: 0.7253, Test Acc: 0.7368\n",
      "Epoch 100: Train Loss: 0.4487,\tTest Loss: 0.4250, Train Acc: 0.8879, Test Acc: 0.9123\n",
      "Epoch 150: Train Loss: 0.3540,\tTest Loss: 0.3353, Train Acc: 0.9275, Test Acc: 0.9298\n",
      "Epoch 200: Train Loss: 0.2953,\tTest Loss: 0.2819, Train Acc: 0.9407, Test Acc: 0.9298\n",
      "Epoch 250: Train Loss: 0.2553,\tTest Loss: 0.2464, Train Acc: 0.9516, Test Acc: 0.9386\n",
      "Epoch 300: Train Loss: 0.2262,\tTest Loss: 0.2209, Train Acc: 0.9560, Test Acc: 0.9474\n",
      "Epoch 350: Train Loss: 0.2040,\tTest Loss: 0.2017, Train Acc: 0.9626, Test Acc: 0.9474\n",
      "Epoch 400: Train Loss: 0.1866,\tTest Loss: 0.1867, Train Acc: 0.9692, Test Acc: 0.9474\n",
      "Epoch 450: Train Loss: 0.1726,\tTest Loss: 0.1747, Train Acc: 0.9736, Test Acc: 0.9474\n",
      "Epoch 500: Train Loss: 0.1610,\tTest Loss: 0.1649, Train Acc: 0.9736, Test Acc: 0.9474\n",
      "Epoch 550: Train Loss: 0.1513,\tTest Loss: 0.1568, Train Acc: 0.9758, Test Acc: 0.9474\n",
      "Epoch 600: Train Loss: 0.1431,\tTest Loss: 0.1499, Train Acc: 0.9780, Test Acc: 0.9474\n",
      "Epoch 650: Train Loss: 0.1359,\tTest Loss: 0.1440, Train Acc: 0.9780, Test Acc: 0.9474\n",
      "Epoch 700: Train Loss: 0.1297,\tTest Loss: 0.1389, Train Acc: 0.9780, Test Acc: 0.9474\n",
      "Epoch 750: Train Loss: 0.1243,\tTest Loss: 0.1345, Train Acc: 0.9780, Test Acc: 0.9474\n",
      "Epoch 800: Train Loss: 0.1195,\tTest Loss: 0.1306, Train Acc: 0.9780, Test Acc: 0.9474\n",
      "Epoch 850: Train Loss: 0.1151,\tTest Loss: 0.1271, Train Acc: 0.9802, Test Acc: 0.9474\n",
      "Epoch 900: Train Loss: 0.1112,\tTest Loss: 0.1240, Train Acc: 0.9802, Test Acc: 0.9474\n",
      "Epoch 950: Train Loss: 0.1077,\tTest Loss: 0.1213, Train Acc: 0.9824, Test Acc: 0.9474\n",
      "Epoch 1000: Train Loss: 0.1045,\tTest Loss: 0.1188, Train Acc: 0.9824, Test Acc: 0.9561\n"
     ]
    }
   ],
   "source": [
    "# Number of epochs \n",
    "EPOCHS = 1000\n",
    "\n",
    "# Arrays for storing losses \n",
    "train_loss = []\n",
    "test_loss = []\n",
    "train_acc = []\n",
    "test_acc = [] \n",
    "\n",
    "for i in range(EPOCHS) : \n",
    "    optimizer.zero_grad()\n",
    "\n",
    "    # forward pass \n",
    "    outputs = model(X_train)\n",
    "    loss = criterion(outputs, y_train)\n",
    "    # Get Training Accuracy per epoch\n",
    "    with torch.no_grad() :\n",
    "        pred = np.round(outputs.numpy())\n",
    "        train_accuracy = np.mean(pred == y_train.numpy())\n",
    "        train_acc.append(train_accuracy)\n",
    "\n",
    "    # Backpropagation \n",
    "    loss.backward()\n",
    "    optimizer.step()\n",
    "    \n",
    "    # Get test loss \n",
    "    outputs_test = model(X_test)\n",
    "    loss_test = criterion(outputs_test, y_test)\n",
    "    # Get Testing Accuracy per epoch\n",
    "    with torch.no_grad() :\n",
    "        pred = np.round(outputs_test.numpy())\n",
    "        test_accuracy = np.mean(pred == y_test.numpy())\n",
    "        test_acc.append(test_accuracy)\n",
    "\n",
    "    # Save loss and acc per iteration \n",
    "    train_loss.append(loss.item())\n",
    "    test_loss.append(loss_test.item())\n",
    "\n",
    "    if (i+1) % 50 == 0:\n",
    "        print(f\"Epoch {i+1}: Train Loss: {loss.item():.4f},\\tTest Loss: {loss_test.item():.4f}, Train Acc: {train_accuracy:.4f}, Test Acc: {test_accuracy:.4f}\")"
   ]
  },
  {
   "cell_type": "markdown",
   "metadata": {},
   "source": [
    "### Plot the Loss"
   ]
  },
  {
   "cell_type": "code",
   "execution_count": 297,
   "metadata": {},
   "outputs": [
    {
     "data": {
      "image/png": "[encoded data removed]",
      "text/plain": [
       "<Figure size 640x480 with 1 Axes>"
      ]
     },
     "metadata": {},
     "output_type": "display_data"
    }
   ],
   "source": [
    "plt.plot(train_loss, label=\"Train Loss\")\n",
    "plt.plot(test_loss, label=\"Test Loss\")\n",
    "plt.legend()\n",
    "plt.show()"
   ]
  },
  {
   "cell_type": "markdown",
   "metadata": {},
   "source": [
    "### Plot The Accuracy"
   ]
  },
  {
   "cell_type": "code",
   "execution_count": 298,
   "metadata": {},
   "outputs": [
    {
     "data": {
      "image/png": "[encoded data removed]",
      "text/plain": [
       "<Figure size 640x480 with 1 Axes>"
      ]
     },
     "metadata": {},
     "output_type": "display_data"
    }
   ],
   "source": [
    "plt.plot(train_acc, label=\"Train Accuracy\")\n",
    "plt.plot(test_acc, label=\"Test Accuracy\")\n",
    "plt.legend()\n",
    "plt.show()"
   ]
  },
  {
   "cell_type": "markdown",
   "metadata": {},
   "source": [
    "### Save and Load the model"
   ]
  },
  {
   "cell_type": "code",
   "execution_count": 300,
   "metadata": {},
   "outputs": [
    {
     "data": {
      "text/plain": [
       "OrderedDict([('0.weight',\n",
       "              tensor([[-0.1639, -0.3304, -0.2881, -0.1985, -0.3129, -0.3742, -0.1811, -0.3031,\n",
       "                       -0.2616,  0.7036, -0.3928,  0.1736, -0.2101, -0.4529,  0.1194, -0.0299,\n",
       "                       -0.0684, -0.2170,  0.2503,  0.4048, -0.1762, -0.4392, -0.4911, -0.4860,\n",
       "                       -0.4494, -0.2375, -0.1341, -0.2297, -0.2791, -0.2291]])),\n",
       "             ('0.bias', tensor([0.4012]))])"
      ]
     },
     "execution_count": 300,
     "metadata": {},
     "output_type": "execute_result"
    }
   ],
   "source": [
    "model.state_dict()"
   ]
  },
  {
   "cell_type": "code",
   "execution_count": 301,
   "metadata": {},
   "outputs": [],
   "source": [
    "# Save the model\n",
    "torch.save(model.state_dict(), \"mymodel.pt\")"
   ]
  },
  {
   "cell_type": "code",
   "execution_count": 302,
   "metadata": {},
   "outputs": [
    {
     "data": {
      "text/plain": [
       "<All keys matched successfully>"
      ]
     },
     "execution_count": 302,
     "metadata": {},
     "output_type": "execute_result"
    }
   ],
   "source": [
    "loaded_model = nn.Sequential(\n",
    "    nn.Linear(D, 1),\n",
    "    nn.Sigmoid()\n",
    ")\n",
    "\n",
    "loaded_model.load_state_dict(torch.load('mymodel.pt'))"
   ]
  },
  {
   "cell_type": "code",
   "execution_count": null,
   "metadata": {},
   "outputs": [],
   "source": []
  }
 ],
 "metadata": {
  "kernelspec": {
   "display_name": "env_cancer",
   "language": "python",
   "name": "python3"
  },
  "language_info": {
   "codemirror_mode": {
    "name": "ipython",
    "version": 3
   },
   "file_extension": ".py",
   "mimetype": "text/x-python",
   "name": "python",
   "nbconvert_exporter": "python",
   "pygments_lexer": "ipython3",
   "version": "3.11.4"
  }
 },
 "nbformat": 4,
 "nbformat_minor": 2
}
